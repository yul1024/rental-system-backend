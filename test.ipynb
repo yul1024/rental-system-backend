{
 "cells": [
  {
   "cell_type": "code",
   "id": "initial_id",
   "metadata": {
    "collapsed": true,
    "ExecuteTime": {
     "end_time": "2024-06-09T08:56:38.176146Z",
     "start_time": "2024-06-09T08:56:38.171919Z"
    }
   },
   "source": "import datetime",
   "outputs": [],
   "execution_count": 1
  },
  {
   "metadata": {
    "ExecuteTime": {
     "end_time": "2024-06-09T09:09:43.256637Z",
     "start_time": "2024-06-09T09:09:43.251510Z"
    }
   },
   "cell_type": "code",
   "source": [
    "left_date = datetime.datetime.strptime('2020-01-20', '%Y-%m-%d')\n",
    "right_date = datetime.datetime.strptime('2020-01-25', '%Y-%m-%d')\n",
    "one_day = datetime.timedelta(days=1)\n",
    "date_dict = {left_date + datetime.timedelta(days=x): x for x in range((right_date - left_date).days + 1)}\n",
    "date_dict"
   ],
   "id": "4d5ead70fa74284e",
   "outputs": [
    {
     "data": {
      "text/plain": [
       "{datetime.datetime(2020, 1, 20, 0, 0): 0,\n",
       " datetime.datetime(2020, 1, 21, 0, 0): 1,\n",
       " datetime.datetime(2020, 1, 22, 0, 0): 2,\n",
       " datetime.datetime(2020, 1, 23, 0, 0): 3,\n",
       " datetime.datetime(2020, 1, 24, 0, 0): 4,\n",
       " datetime.datetime(2020, 1, 25, 0, 0): 5}"
      ]
     },
     "execution_count": 5,
     "metadata": {},
     "output_type": "execute_result"
    }
   ],
   "execution_count": 5
  },
  {
   "metadata": {
    "ExecuteTime": {
     "end_time": "2024-06-09T10:00:19.229897Z",
     "start_time": "2024-06-09T10:00:19.222310Z"
    }
   },
   "cell_type": "code",
   "source": [
    "a = datetime.datetime(2020, 1, 20)\n",
    "b = datetime.datetime(2020, 1, 25)\n",
    "d = datetime.timedelta(days=1)\n",
    "rst = {a + datetime.timedelta(days=x): 'None' for x in range(-4, (b-a).days + 1)}\n",
    "rst[datetime.datetime(2020, 1, 22)] = 12\n",
    "rst"
   ],
   "id": "32168525ba766f3f",
   "outputs": [
    {
     "data": {
      "text/plain": [
       "{datetime.datetime(2020, 1, 16, 0, 0): 'None',\n",
       " datetime.datetime(2020, 1, 17, 0, 0): 'None',\n",
       " datetime.datetime(2020, 1, 18, 0, 0): 'None',\n",
       " datetime.datetime(2020, 1, 19, 0, 0): 'None',\n",
       " datetime.datetime(2020, 1, 20, 0, 0): 'None',\n",
       " datetime.datetime(2020, 1, 21, 0, 0): 'None',\n",
       " datetime.datetime(2020, 1, 22, 0, 0): 12,\n",
       " datetime.datetime(2020, 1, 23, 0, 0): 'None',\n",
       " datetime.datetime(2020, 1, 24, 0, 0): 'None',\n",
       " datetime.datetime(2020, 1, 25, 0, 0): 'None'}"
      ]
     },
     "execution_count": 17,
     "metadata": {},
     "output_type": "execute_result"
    }
   ],
   "execution_count": 17
  }
 ],
 "metadata": {
  "kernelspec": {
   "display_name": "Python 3",
   "language": "python",
   "name": "python3"
  },
  "language_info": {
   "codemirror_mode": {
    "name": "ipython",
    "version": 2
   },
   "file_extension": ".py",
   "mimetype": "text/x-python",
   "name": "python",
   "nbconvert_exporter": "python",
   "pygments_lexer": "ipython2",
   "version": "2.7.6"
  }
 },
 "nbformat": 4,
 "nbformat_minor": 5
}
